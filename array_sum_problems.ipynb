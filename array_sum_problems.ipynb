{
 "cells": [
  {
   "cell_type": "markdown",
   "metadata": {},
   "source": [
    "### 3Sum:\n",
    "\n",
    "https://leetcode.com/problems/3sum/description/\n",
    "\n",
    "Given an integer array nums, return all the triplets [nums[i], nums[j], nums[k]] such that i != j, i != k, and j != k, and nums[i] + nums[j] + nums[k] == 0.\n",
    "\n",
    "Notice that the solution set must not contain duplicate triplets.\n",
    "\n",
    " \n",
    "\n",
    "**Example 1:**\n",
    "Input: nums = [-1,0,1,2,-1,-4]\n",
    "Output: [[-1,-1,2],[-1,0,1]]\n",
    "Explanation: \n",
    "nums[0] + nums[1] + nums[2] = (-1) + 0 + 1 = 0.\n",
    "nums[1] + nums[2] + nums[4] = 0 + 1 + (-1) = 0.\n",
    "nums[0] + nums[3] + nums[4] = (-1) + 2 + (-1) = 0.\n",
    "The distinct triplets are [-1,0,1] and [-1,-1,2].\n",
    "Notice that the order of the output and the order of the triplets does not matter.\n",
    "\n",
    "**Example 2:**\n",
    "Input: nums = [0,1,1]\n",
    "Output: []\n",
    "Explanation: The only possible triplet does not sum up to 0."
   ]
  },
  {
   "cell_type": "code",
   "execution_count": null,
   "metadata": {},
   "outputs": [],
   "source": [
    "class Solution:\n",
    "    def threeSum(self, nums: List[int]) -> List[List[int]]:\n",
    "        # three pointer solution \n",
    "        nums.sort()\n",
    "        res = []\n",
    "        for i in range(len(nums) - 2):\n",
    "            j, k = i + 1, len(nums) - 1\n",
    "            while j < k:\n",
    "                if nums[i] + nums[j] + nums[k] == 0:\n",
    "                    if [nums[i], nums[j], nums[k]] not in res:\n",
    "                        res.append([nums[i], nums[j], nums[k]])\n",
    "                    k -= 1\n",
    "                elif nums[i] + nums[j] + nums[k] > 0: \n",
    "                    k -= 1\n",
    "                else: \n",
    "                    j += 1\n",
    "        return res"
   ]
  },
  {
   "cell_type": "code",
   "execution_count": null,
   "metadata": {},
   "outputs": [],
   "source": [
    "class Solution:\n",
    "    def threeSum(self, nums: List[int]) -> List[List[int]]:\n",
    "        nums.sort()\n",
    "        res = set()\n",
    "        for i in range(len(nums)):\n",
    "            k, l = i + 1, len(nums) - 1\n",
    "            while k < l: \n",
    "                if nums[i] + nums[k] + nums[l] > 0:\n",
    "                    l -= 1\n",
    "                elif nums[i] + nums[k] + nums[l] < 0:\n",
    "                    k += 1\n",
    "                else: \n",
    "                    res.add((nums[i], nums[k], nums[l]))\n",
    "                    l -= 1\n",
    "                \n",
    "        return res\n"
   ]
  }
 ],
 "metadata": {
  "language_info": {
   "name": "python"
  },
  "orig_nbformat": 4
 },
 "nbformat": 4,
 "nbformat_minor": 2
}
