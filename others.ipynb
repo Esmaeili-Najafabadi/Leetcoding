{
 "cells": [
  {
   "cell_type": "markdown",
   "metadata": {},
   "source": [
    "### H-Index\n",
    "\n",
    "https://leetcode.com/problems/h-index/description/\n",
    "\n",
    "Given an array of integers citations where citations[i] is the number of citations a researcher received for their ith paper, return the researcher's h-index.\n",
    "\n",
    "According to the definition of h-index on Wikipedia: The h-index is defined as the maximum value of h such that the given researcher has published at least h papers that have each been cited at least h times.\n",
    "\n",
    " \n",
    "\n",
    "**Example 1:**\n",
    "Input: citations = [3,0,6,1,5]\n",
    "Output: 3\n",
    "Explanation: [3,0,6,1,5] means the researcher has 5 papers in total and each of them had received 3, 0, 6, 1, 5 citations respectively.\n",
    "Since the researcher has 3 papers with at least 3 citations each and the remaining two with no more than 3 citations each, their h-index is 3.\n",
    "\n",
    "**Example 2:**\n",
    "Input: citations = [1,3,1]\n",
    "Output: 1\n",
    " "
   ]
  },
  {
   "cell_type": "code",
   "execution_count": null,
   "metadata": {},
   "outputs": [],
   "source": [
    "class Solution:\n",
    "    def hIndex(self, citations: List[int]) -> int:\n",
    "        # naive solution is O(n^2)\n",
    "        # sort and you get O(nlogn)\n",
    "        citations.sort(reverse=True)\n",
    "        hindx = 0\n",
    "        for i in range(len(citations)):\n",
    "            if citations[i] >= i + 1:\n",
    "                hindx = i + 1\n",
    "        return hindx"
   ]
  },
  {
   "cell_type": "markdown",
   "metadata": {},
   "source": [
    "O(n) time complexity also exists. Just use a bucket sort."
   ]
  },
  {
   "cell_type": "code",
   "execution_count": null,
   "metadata": {},
   "outputs": [],
   "source": [
    "class Solution:\n",
    "    def hIndex(self, citations: List[int]) -> int:\n",
    "        # naive solution is O(n^2)\n",
    "        # sort and you get O(nlogn)\n",
    "        # use bucket sort and you get O(n)\n",
    "        def bucket_sort(x):\n",
    "            bucket = [0] * 1000\n",
    "            for x in x: \n",
    "                bucket[x] += 1\n",
    "            res = []\n",
    "            for i in range(999, -1, -1):\n",
    "                res.extend([i] *  bucket[i])\n",
    "            return res\n",
    "\n",
    "        citations = bucket_sort(citations)\n",
    "        hindx = 0\n",
    "        for i in range(len(citations)):\n",
    "            if citations[i] >= i + 1:\n",
    "                hindx = i + 1\n",
    "        return hindx"
   ]
  },
  {
   "cell_type": "markdown",
   "metadata": {},
   "source": [
    "### 87. Repeated DNA Sequences\n",
    "\n",
    "The DNA sequence is composed of a series of nucleotides abbreviated as 'A', 'C', 'G', and 'T'.\n",
    "For example, \"ACGAATTCCG\" is a DNA sequence.\n",
    "When studying DNA, it is useful to identify repeated sequences within the DNA.\n",
    "Given a string s that represents a DNA sequence, return all the 10-letter-long sequences (substrings) that occur more than once in a DNA molecule. You may return the answer in any order.\n",
    " \n",
    "**Example 1:**\n",
    "Input: s = \"AAAAACCCCCAAAAACCCCCCAAAAAGGGTTT\"\n",
    "Output: [\"AAAAACCCCC\",\"CCCCCAAAAA\"]\n",
    "\n",
    "**Example 2:**\n",
    "Input: s = \"AAAAAAAAAAAAA\"\n",
    "Output: [\"AAAAAAAAAA\"]\n",
    " \n",
    "** Constraints:**\n",
    "1 <= s.length <= 105, \n",
    "s[i] is either 'A', 'C', 'G', or 'T'."
   ]
  },
  {
   "cell_type": "code",
   "execution_count": null,
   "metadata": {},
   "outputs": [],
   "source": [
    "# O(n^2) solution, passed but speed limit exceeded\n",
    "class Solution:\n",
    "    def findRepeatedDnaSequences(self, s: str) -> List[str]:\n",
    "        i = 0 \n",
    "        res = set()\n",
    "        while i + 10 < len(s):\n",
    "            if s[i:i + 10] in s[i + 1:]:\n",
    "                res.add(s[i: i + 10])\n",
    "            i += 1\n",
    "        return list(res)\n",
    "        "
   ]
  },
  {
   "cell_type": "code",
   "execution_count": null,
   "metadata": {},
   "outputs": [],
   "source": [
    "# simple change can make it O(n): this is because in python, set lookup is O(1)\n",
    "# passed nicely\n",
    "class Solution:\n",
    "    def findRepeatedDnaSequences(self, s: str) -> List[str]:\n",
    "        i = 0\n",
    "        subs = set() \n",
    "        res = set()\n",
    "        while i + 10 <= len(s):\n",
    "            if s[i:i + 10] in subs:\n",
    "                res.add(s[i: i + 10])\n",
    "            else: \n",
    "                subs.add(s[i: i + 10])\n",
    "            i += 1\n",
    "        return list(res)\n",
    "        "
   ]
  }
 ],
 "metadata": {
  "language_info": {
   "name": "python"
  },
  "orig_nbformat": 4
 },
 "nbformat": 4,
 "nbformat_minor": 2
}
