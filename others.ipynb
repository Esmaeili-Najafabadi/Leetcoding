{
 "cells": [
  {
   "cell_type": "markdown",
   "metadata": {},
   "source": [
    "### H-Index\n",
    "\n",
    "https://leetcode.com/problems/h-index/description/\n",
    "\n",
    "Given an array of integers citations where citations[i] is the number of citations a researcher received for their ith paper, return the researcher's h-index.\n",
    "\n",
    "According to the definition of h-index on Wikipedia: The h-index is defined as the maximum value of h such that the given researcher has published at least h papers that have each been cited at least h times.\n",
    "\n",
    " \n",
    "\n",
    "**Example 1:**\n",
    "Input: citations = [3,0,6,1,5]\n",
    "Output: 3\n",
    "Explanation: [3,0,6,1,5] means the researcher has 5 papers in total and each of them had received 3, 0, 6, 1, 5 citations respectively.\n",
    "Since the researcher has 3 papers with at least 3 citations each and the remaining two with no more than 3 citations each, their h-index is 3.\n",
    "\n",
    "**Example 2:**\n",
    "Input: citations = [1,3,1]\n",
    "Output: 1\n",
    " "
   ]
  },
  {
   "cell_type": "code",
   "execution_count": null,
   "metadata": {},
   "outputs": [],
   "source": [
    "class Solution:\n",
    "    def hIndex(self, citations: List[int]) -> int:\n",
    "        # naive solution is O(n^2)\n",
    "        # sort and you get O(nlogn)\n",
    "        # use buckle sort and you get O(n)\n",
    "        citations.sort(reverse=True)\n",
    "        hindx = 0\n",
    "        for i in range(len(citations)):\n",
    "            if citations[i] >= i + 1:\n",
    "                hindx = i + 1\n",
    "        return hindx"
   ]
  },
  {
   "cell_type": "markdown",
   "metadata": {},
   "source": [
    "O(n) time complexity also exists. Just use a bucket sort."
   ]
  },
  {
   "cell_type": "markdown",
   "metadata": {},
   "source": []
  }
 ],
 "metadata": {
  "language_info": {
   "name": "python"
  },
  "orig_nbformat": 4
 },
 "nbformat": 4,
 "nbformat_minor": 2
}
