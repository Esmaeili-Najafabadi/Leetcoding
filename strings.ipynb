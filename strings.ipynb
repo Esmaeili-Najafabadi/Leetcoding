{
 "cells": [
  {
   "cell_type": "markdown",
   "metadata": {},
   "source": [
    "### Longest Palindromic Substring\n",
    "\n",
    "https://leetcode.com/problems/longest-palindromic-substring/\n",
    "\n",
    "Given a string s, return the longest palindromic substring Substring.\n",
    "A substring is a contiguous non-empty sequence of characters within a string.\n",
    "\n",
    " \n",
    " \n",
    "Example 1:\n",
    "\n",
    "Input: s = \"babad\"\n",
    "Output: \"bab\"\n",
    "Explanation: \"aba\" is also a valid answer.\n",
    "Example 2:\n",
    "\n",
    "Input: s = \"cbbd\"\n",
    "Output: \"bb\"\n",
    " \n",
    "\n",
    "Constraints:\n",
    "\n",
    "1 <= s.length <= 1000\n",
    "s consist of only digits and English letters."
   ]
  },
  {
   "cell_type": "code",
   "execution_count": null,
   "metadata": {},
   "outputs": [],
   "source": [
    "class Solution:\n",
    "    def longestPalindrome(self, s: str) -> str:\n",
    "        # naive solution is O(n^3), A simple optimization over naive would result in O(n^2)\n",
    "        if len(s) < 2: \n",
    "            return s\n",
    "        revers = s[::-1]\n",
    "        max_len = 0\n",
    "        i_m  = j_m = 0\n",
    "        for i in range(0, len(s)):\n",
    "            for j in range(i + 1, len(s) + 1):\n",
    "                if s[i:j] == revers[len(s) - j:len(s) - i] and j - i > max_len:\n",
    "                    max_len = j - i \n",
    "                    i_m, j_m = i, j \n",
    "        return s[i_m:j_m]"
   ]
  },
  {
   "cell_type": "markdown",
   "metadata": {},
   "source": [
    "### Check if Strings Can be Made Equal With Operations II\n",
    "\n",
    "https://leetcode.com/problems/check-if-strings-can-be-made-equal-with-operations-ii/description/\n",
    "\n",
    "You are given two strings s1 and s2, both of length n, consisting of lowercase English letters.\n",
    "\n",
    "You can apply the following operation on any of the two strings any number of times:\n",
    "\n",
    "Choose any two indices i and j such that i < j and the difference j - i is even, then swap the two characters at those indices in the string.\n",
    "Return true if you can make the strings s1 and s2 equal, and false otherwise."
   ]
  },
  {
   "cell_type": "code",
   "execution_count": null,
   "metadata": {},
   "outputs": [],
   "source": []
  }
 ],
 "metadata": {
  "language_info": {
   "name": "python"
  },
  "orig_nbformat": 4
 },
 "nbformat": 4,
 "nbformat_minor": 2
}
